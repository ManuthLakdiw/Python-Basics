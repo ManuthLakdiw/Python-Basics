{
 "cells": [
  {
   "cell_type": "code",
   "execution_count": 1,
   "id": "cd30174e",
   "metadata": {},
   "outputs": [
    {
     "name": "stdout",
     "output_type": "stream",
     "text": [
      "Hello World\n"
     ]
    }
   ],
   "source": [
    "print(\"Hello World\")"
   ]
  },
  {
   "cell_type": "code",
   "execution_count": 2,
   "id": "2c66f746",
   "metadata": {},
   "outputs": [
    {
     "name": "stdout",
     "output_type": "stream",
     "text": [
      "3\n"
     ]
    }
   ],
   "source": [
    "a = 1\n",
    "b = 2\n",
    "print(a + b)"
   ]
  },
  {
   "cell_type": "code",
   "execution_count": 6,
   "id": "6cf0331b",
   "metadata": {},
   "outputs": [
    {
     "name": "stdout",
     "output_type": "stream",
     "text": [
      "This is a variable <class 'str'>\n",
      "10 <class 'int'>\n",
      "10.5 <class 'float'>\n",
      "True <class 'bool'>\n"
     ]
    }
   ],
   "source": [
    "my_var1 = \"This is a variable\"\n",
    "print(my_var , type(my_var))\n",
    "\n",
    "my_var2 = 10\n",
    "print(my_var2 , type(my_var2))\n",
    "\n",
    "my_var3 = 10.5\n",
    "print(my_var3 , type(my_var3))\n",
    "\n",
    "my_var4 = True\n",
    "print(my_var4 , type(my_var4))\n"
   ]
  },
  {
   "cell_type": "code",
   "execution_count": 9,
   "id": "78fee015",
   "metadata": {},
   "outputs": [
    {
     "name": "stdout",
     "output_type": "stream",
     "text": [
      "15.5\n"
     ]
    }
   ],
   "source": [
    "a = 5.5\n",
    "b = 10\n",
    "print(a + b)  "
   ]
  },
  {
   "cell_type": "code",
   "execution_count": 14,
   "id": "471bb498",
   "metadata": {},
   "outputs": [
    {
     "name": "stdout",
     "output_type": "stream",
     "text": [
      "10 4355599064\n",
      "20 4355599384\n"
     ]
    }
   ],
   "source": [
    "my_num1 = 10\n",
    "print(my_num1, id(my_num1))\n",
    "my_num1 = 20\n",
    "print(my_num1, id(my_num1))\n",
    "\n",
    "# Python එක small integers (-5 to 256) cache කරලා තියාගන්නවා,\n",
    "# එකම value එක නැවත assign කලොත්, ඒකම object එක re-use කරනවා.\n",
    "# එ නිසා id එක change වෙන්නේ නෑ."
   ]
  },
  {
   "cell_type": "code",
   "execution_count": 13,
   "id": "c7c98799",
   "metadata": {},
   "outputs": [
    {
     "name": "stdout",
     "output_type": "stream",
     "text": [
      "10 4355599064\n",
      "20 4355599384\n"
     ]
    }
   ],
   "source": [
    "my_num1 = 10\n",
    "print(my_num1, id(my_num1))\n",
    "\n",
    "# මෙතන my_num1 මුලින්ම 10 object එකට bind වෙලා තියෙනවා.\n",
    "# Python එකේ small integers (-5 to 256) cache කරලා තියාගන්නවා.,\n",
    "# 10 කියන object එක memory එකේ already තියෙනවා.\n",
    "\n",
    "\n",
    "\n",
    "my_num1 = 20\n",
    "print(my_num1, id(my_num1))\n",
    "\n",
    "# දැන් variable එකට 20 assign කරනකොට, my_num1 කියන tag එක\n",
    "# පරණ 10 object එකෙන් අයින් වෙලා, වෙනම object එකක් (20) bind වෙනවා.\n",
    "# 10 සහ 20 දෙකම cache range එකේ තියන objects,\n",
    "# ඒත් දෙකම වෙන වෙනම object දෙක නිසා id එක වෙනස් වෙනවා.\n"
   ]
  },
  {
   "cell_type": "code",
   "execution_count": 26,
   "id": "616c7ba4",
   "metadata": {},
   "outputs": [
    {
     "name": "stdout",
     "output_type": "stream",
     "text": [
      "12 <class 'int'>\n",
      "12.0 <class 'float'>\n",
      "12.0 <class 'str'>\n",
      "True <class 'bool'>\n"
     ]
    }
   ],
   "source": [
    "#casting\n",
    "\n",
    "a = 12\n",
    "print(a, type(a))\n",
    "a = float(a)\n",
    "print(a, type(a))\n",
    "a = str(a)\n",
    "print(a, type(a))\n",
    "a = bool(a)\n",
    "print(a, type(a)) \n",
    "# bool: True (non-empty string is always True)\n"
   ]
  },
  {
   "cell_type": "code",
   "execution_count": null,
   "id": "cb13f683",
   "metadata": {},
   "outputs": [
    {
     "name": "stdout",
     "output_type": "stream",
     "text": [
      "[1, 2, 3, 4, 5]\n",
      "<class 'list'>\n"
     ]
    }
   ],
   "source": [
    "my_list1 = [1, 2, 3, 4, 5]\n",
    "print(my_list1)\n",
    "print(type(my_list1))"
   ]
  },
  {
   "cell_type": "code",
   "execution_count": 66,
   "id": "194426f1",
   "metadata": {},
   "outputs": [
    {
     "name": "stdout",
     "output_type": "stream",
     "text": [
      "['apple', 'banana', 'cherry', 'orange', 'dog', 'cat', 'mouse', 1, 2, 3, 4, 5, True, False, 10.5, 20.5, 30.5, 'java', 'python', 'c++']\n",
      "<class 'list'>\n"
     ]
    }
   ],
   "source": [
    "my_list2 = [\"apple\", \"banana\", \"cherry\" , \"orange\" , \"dog\" , \"cat\" , \"mouse\" , 1 , 2 , 3 , 4 , 5 , True , False , 10.5 , 20.5 , 30.5 , \"java\" , \"python\" , \"c++\"]\n",
    "print(my_list2)\n",
    "print(type(my_list2))"
   ]
  },
  {
   "cell_type": "code",
   "execution_count": 31,
   "id": "4cc78fd7",
   "metadata": {},
   "outputs": [
    {
     "name": "stdout",
     "output_type": "stream",
     "text": [
      "20\n"
     ]
    }
   ],
   "source": [
    "print(len(my_list2))  # length of the list"
   ]
  },
  {
   "cell_type": "code",
   "execution_count": 33,
   "id": "e163e672",
   "metadata": {},
   "outputs": [
    {
     "name": "stdout",
     "output_type": "stream",
     "text": [
      "apple\n",
      "banana\n",
      "cherry\n",
      "orange\n",
      "c++\n",
      "python\n"
     ]
    }
   ],
   "source": [
    "print(my_list2[0])  # first element\n",
    "print(my_list2[1])  # second element\n",
    "print(my_list2[2])  # third element\n",
    "print(my_list2[3])  # fourth element\n",
    "print(my_list2[-1])  # last element\n",
    "print(my_list2[-2])  # second last element\n"
   ]
  },
  {
   "cell_type": "code",
   "execution_count": null,
   "id": "53c7aefa",
   "metadata": {},
   "outputs": [
    {
     "name": "stdout",
     "output_type": "stream",
     "text": [
      "['banana', 'cherry', 'orange', 'dog']\n",
      "['banana', 'cherry', 'orange', 'dog']\n",
      "<class 'list'>\n",
      "4\n",
      "banana\n",
      "cherry\n",
      "orange\n",
      "dog\n"
     ]
    }
   ],
   "source": [
    "#slice\n",
    "\n",
    "print(my_list2[1:5])  # first 5 elements\n",
    "\n",
    "# 1 -> start index \n",
    "# 5 -> end index (real end index is mentioned index - 1) \n",
    "\n",
    "new_list = my_list2[1:5]\n",
    "print(new_list)\n",
    "print(type(new_list))\n",
    "print(len(new_list))\n",
    "print(new_list[0])  # first element of the new list\n",
    "print(new_list[1])  # second element of the new list\n",
    "print(new_list[2])  # third element of the new list\n",
    "print(new_list[3])  # fourth element of the new list\n"
   ]
  },
  {
   "cell_type": "code",
   "execution_count": null,
   "id": "9938378a",
   "metadata": {},
   "outputs": [
    {
     "name": "stdout",
     "output_type": "stream",
     "text": [
      "['apple', 'banana', 'cherry', 'orange']\n"
     ]
    }
   ],
   "source": [
    "# slice without  mention start index\n",
    "\n",
    "print(my_list2[:4])  # first 5 elements\n",
    "# 0 -> start index (default)\n",
    "# 4 -> end index (real end index is mentioned index - 1)"
   ]
  },
  {
   "cell_type": "code",
   "execution_count": null,
   "id": "f911f5bc",
   "metadata": {},
   "outputs": [
    {
     "name": "stdout",
     "output_type": "stream",
     "text": [
      "['dog', 'cat', 'mouse', 1, 2, 3, 4, 5, True, False, 10.5, 20.5, 30.5, 'java', 'python', 'c++']\n"
     ]
    }
   ],
   "source": [
    "#slice without  mention end index\n",
    "\n",
    "print(my_list2[4:])  # from 5th element to last element\n",
    "# 4 -> start index\n",
    "# len(my_list2) -> end index (default)"
   ]
  },
  {
   "cell_type": "code",
   "execution_count": 41,
   "id": "7a0ce370",
   "metadata": {},
   "outputs": [
    {
     "name": "stdout",
     "output_type": "stream",
     "text": [
      "['apple', 'banana', 'cherry', 'orange', 'dog', 'cat', 'mouse', 1, 2, 3, 4, 5, True, False, 10.5, 20.5, 30.5, 'java', 'python', 'c++']\n"
     ]
    }
   ],
   "source": [
    "#slice without mention start and end index\n",
    "print(my_list2[:])  # all elements\n",
    "# 0 -> start index (default)\n",
    "# len(my_list2) -> end index (default)\n"
   ]
  },
  {
   "cell_type": "code",
   "execution_count": null,
   "id": "50523350",
   "metadata": {},
   "outputs": [
    {
     "name": "stdout",
     "output_type": "stream",
     "text": [
      "['banana', 'orange', 'cat', 1, 3]\n",
      "['apple', 'orange', 'mouse', 3, True, 20.5, 'python']\n",
      "['cherry', 1, True, 'java']\n",
      "['c++', 'java', 20.5, False, 5, 3, 1, 'cat', 'orange', 'banana']\n"
     ]
    }
   ],
   "source": [
    "#slice with step count\n",
    "\n",
    "\n",
    "print(my_list2[1:10:2]) # ['banana', 'orange', 'cat', 1, 3]\n",
    "# 0 -> start index (default)\n",
    "# 10 -> end index (real end index is mentioned index - 1)  \n",
    "# 2 -> step count (default is 1)\n",
    "\n",
    "\n",
    "print(my_list2[::3]) # ['apple', 'orange', 'mouse', 3, True, 20.5, 'python']\n",
    "# 0 -> start index (default)\n",
    "# len(my_list2) -> end index (default)\n",
    "# 3 -> step count \n",
    "\n",
    "\n",
    "print(my_list2[2::5]) # ['cherry', 1, True, 'java']\n",
    "\n",
    "\n",
    "print(my_list2[::-2]) # reverse the list ['c++', 'java', 20.5, False, 5, 3, 1, 'cat', 'orange', 'banana']\n",
    "# 0 -> start index (default)\n",
    "# len(my_list2) -> end index (default)\n",
    "# -2 -> step count (reverse the list)\n",
    "\n"
   ]
  },
  {
   "cell_type": "code",
   "execution_count": null,
   "id": "04135703",
   "metadata": {},
   "outputs": [
    {
     "name": "stdout",
     "output_type": "stream",
     "text": [
      "Before changing the list: ['apple', 'banana', 'cherry', 'orange', 'dog', 'cat', 'mouse', 1, 2, 3, 4, 5, True, False, 10.5, 20.5, 30.5, 'java', 'python', 'c++']\n",
      "['banana', 'cherry', 'orange', 'dog']\n",
      "After changing the list: ['apple', 'western', 'eastern', 'southern', 'northern', 'central', 'cat', 'mouse', 1, 2, 3, 4, 5, True, False, 10.5, 20.5, 30.5, 'java', 'python', 'c++']\n"
     ]
    }
   ],
   "source": [
    "# change list values using slicing\n",
    "\n",
    "print(\"Before changing the list:\", my_list2)\n",
    "print(my_list2[1:5])  # ['banana', 'cherry', 'orange', 'dog']\n",
    "my_list2[1:5] = [\"western\", \"eastern\", \"southern\", \"northern\"]\n",
    "print(\"After changing the list:\", my_list2) "
   ]
  },
  {
   "cell_type": "code",
   "execution_count": null,
   "id": "bcdaf581",
   "metadata": {},
   "outputs": [
    {
     "name": "stdout",
     "output_type": "stream",
     "text": [
      "Before inserting a new value: [10, 20, 30, 40, 50]\n",
      "After inserting a new value: [10, 20, 25, 30, 40, 50]\n"
     ]
    }
   ],
   "source": [
    "# insert a new value to list at a specific index\n",
    "\n",
    "num_list = [10, 20, 30, 40, 50]\n",
    "print(\"Before inserting a new value:\", num_list)\n",
    "num_list.insert(2, 25)  # insert 25 at index 2\n",
    "print(\"After inserting a new value:\", num_list)\n",
    "\n",
    "\n",
    "\n",
    "# insert new value to list at the end of the list\n",
    "\n",
    "num_list.append(60)  # insert 60 at the end of the list\n",
    "print(\"After inserting a new value at the end:\", num_list)"
   ]
  },
  {
   "cell_type": "code",
   "execution_count": null,
   "id": "108049ca",
   "metadata": {},
   "outputs": [
    {
     "name": "stdout",
     "output_type": "stream",
     "text": [
      "Before removing an item: ['Sri Lanka', 'India', 'China', 'USA', 'UK', 'Australia']\n",
      "After removing an item: ['Sri Lanka', 'India', 'USA', 'UK', 'Australia']\n",
      "Before removing an item by index: ['Sri Lanka', 'India', 'USA', 'UK', 'Australia']\n",
      "USA\n",
      "After removing an item by index: ['Sri Lanka', 'India', 'UK', 'Australia']\n"
     ]
    }
   ],
   "source": [
    "# remove item from list by value\n",
    "\n",
    "contry_list = [\"Sri Lanka\", \"India\", \"China\", \"USA\", \"UK\", \"Australia\"]\n",
    "print(\"Before removing an item:\", contry_list)\n",
    "contry_list.remove(\"China\")  # remove \"China\" from the list\n",
    "print(\"After removing an item:\", contry_list)\n",
    "\n",
    "\n",
    "# remove item from list by index\n",
    "print(\"Before removing an item by index:\", contry_list)\n",
    "print(contry_list.pop(2))  # remove item at index 2 and return it\n",
    "print(\"After removing an item by index:\", contry_list)\n",
    "\n",
    "# remove last item from the list\n",
    "print(\"Before removing the last item:\", contry_list)\n",
    "print(contry_list.pop())  # remove last item and return it\n",
    "print(\"After removing the last item:\", contry_list)\n",
    "\n",
    "\n",
    "# while using pop we can capture the removed item\n",
    "removed_item = contry_list.pop(1)  # remove item at index 1 and return it\n",
    "print(\"Removed item:\", removed_item)\n"
   ]
  },
  {
   "cell_type": "code",
   "execution_count": 84,
   "id": "9d6a0c00",
   "metadata": {},
   "outputs": [
    {
     "name": "stdout",
     "output_type": "stream",
     "text": [
      "Before removing an item using del: ['Python', 'Java', 'C++', 'JavaScript', 'Ruby']\n",
      "After removing an item using del: ['Python', 'Java', 'JavaScript', 'Ruby']\n",
      "After removing items using del with slicing: ['Python', 'Ruby']\n"
     ]
    }
   ],
   "source": [
    "# remove item using del keyword\n",
    "programing_languages = [\"Python\", \"Java\", \"C++\", \"JavaScript\", \"Ruby\"]\n",
    "print(\"Before removing an item using del:\", programing_languages)\n",
    "del programing_languages[2]  # remove item at index 2\n",
    "print(\"After removing an item using del:\", programing_languages)\n",
    "\n",
    "del programing_languages[1:3]  # remove items from index 1 to 2\n",
    "print(\"After removing items using del with slicing:\", programing_languages)\n",
    "\n",
    "\n",
    "# while using del we cannot capture the removed item"
   ]
  },
  {
   "cell_type": "code",
   "execution_count": 87,
   "id": "1dd836b2",
   "metadata": {},
   "outputs": [
    {
     "name": "stdout",
     "output_type": "stream",
     "text": [
      "Before destroying the list: ['watch', 'belt', 'sunglass', 'wallet']\n"
     ]
    }
   ],
   "source": [
    "#destroy the list\n",
    "assosories = [\"watch\", \"belt\", \"sunglass\", \"wallet\"]\n",
    "print(\"Before destroying the list:\", assosories)\n",
    "del assosories  # destroy the list\n",
    "# print(\"After destroying the list:\", assosories)  # This will raise an error because (ERROR -> name 'assosories' is not defined)"
   ]
  },
  {
   "cell_type": "code",
   "execution_count": 80,
   "id": "73584297",
   "metadata": {},
   "outputs": [
    {
     "name": "stdout",
     "output_type": "stream",
     "text": [
      "Before emptying the list: ['Django', 'Flask', 'FastAPI', 'Pyramid']\n",
      "After emptying the list: []\n",
      "0\n"
     ]
    }
   ],
   "source": [
    "# empty the list\n",
    "frame_works = [\"Django\", \"Flask\", \"FastAPI\", \"Pyramid\"]\n",
    "print(\"Before emptying the list:\", frame_works)\n",
    "frame_works.clear()  # empty the list\n",
    "print(\"After emptying the list:\", frame_works)\n",
    "print(len(frame_works))  # length of the list is 0\n"
   ]
  }
 ],
 "metadata": {
  "kernelspec": {
   "display_name": "Python 3",
   "language": "python",
   "name": "python3"
  },
  "language_info": {
   "codemirror_mode": {
    "name": "ipython",
    "version": 3
   },
   "file_extension": ".py",
   "mimetype": "text/x-python",
   "name": "python",
   "nbconvert_exporter": "python",
   "pygments_lexer": "ipython3",
   "version": "3.13.4"
  }
 },
 "nbformat": 4,
 "nbformat_minor": 5
}
