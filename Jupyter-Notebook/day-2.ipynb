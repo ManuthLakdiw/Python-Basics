{
 "cells": [
  {
   "cell_type": "code",
   "execution_count": 11,
   "id": "c946b1c8",
   "metadata": {},
   "outputs": [
    {
     "name": "stdout",
     "output_type": "stream",
     "text": [
      "('tenis', 'cricket', 'football', True, False, 'tenis')\n",
      "<class 'tuple'>\n",
      "cricket\n",
      "tenis\n",
      "6\n"
     ]
    }
   ],
   "source": [
    "# Tuple\n",
    "\n",
    "\n",
    "sports = (\"tenis\",\"cricket\",\"football\",True,False,\"tenis\")\n",
    "print(sports)\n",
    "print(type(sports))\n",
    "print(sports[1])\n",
    "print(sports[-1])\n",
    "print(len(sports))\n"
   ]
  },
  {
   "cell_type": "code",
   "execution_count": null,
   "id": "fd0e4621",
   "metadata": {},
   "outputs": [
    {
     "ename": "TypeError",
     "evalue": "'tuple' object does not support item assignment",
     "output_type": "error",
     "traceback": [
      "\u001b[31m---------------------------------------------------------------------------\u001b[39m",
      "\u001b[31mTypeError\u001b[39m                                 Traceback (most recent call last)",
      "\u001b[36mCell\u001b[39m\u001b[36m \u001b[39m\u001b[32mIn[4]\u001b[39m\u001b[32m, line 3\u001b[39m\n\u001b[32m      1\u001b[39m \u001b[38;5;66;03m#Change value from tuple\u001b[39;00m\n\u001b[32m----> \u001b[39m\u001b[32m3\u001b[39m \u001b[43msports\u001b[49m\u001b[43m[\u001b[49m\u001b[32;43m1\u001b[39;49m\u001b[43m]\u001b[49m = \u001b[33m\"\u001b[39m\u001b[33mBaseBall\u001b[39m\u001b[33m\"\u001b[39m \u001b[38;5;66;03m#ERROR - 'tuple' object does not support item assignment\u001b[39;00m\n",
      "\u001b[31mTypeError\u001b[39m: 'tuple' object does not support item assignment"
     ]
    }
   ],
   "source": [
    "#Change the value from the tuple\n",
    "\n",
    "sports[1] = \"BaseBall\" #ERROR - 'tuple' object does not support item assignment"
   ]
  },
  {
   "cell_type": "code",
   "execution_count": null,
   "id": "6e2cd30f",
   "metadata": {},
   "outputs": [
    {
     "name": "stdout",
     "output_type": "stream",
     "text": [
      "('python',)\n",
      "<class 'tuple'>\n",
      "['python']\n",
      "<class 'list'>\n",
      "['python', 'java']\n"
     ]
    }
   ],
   "source": [
    "# languages = (\"python\",\"java\",\"c++\",\"c#\",\"javascript\",\"ruby\",\"go\",\"php\")\n",
    "# print(languages)\n",
    "# print(type(languages)) #<class 'tuple'>\n",
    "\n",
    "\n",
    "# languages = (\"python\")\n",
    "# print(languages)\n",
    "# print(type(languages)) #<class 'str'>\n",
    "\n",
    "languages = (\"python\" , )\n",
    "print(languages)\n",
    "print(type(languages)) #<class 'tuple'>\n"
   ]
  },
  {
   "cell_type": "code",
   "execution_count": 24,
   "id": "cf2d73ea",
   "metadata": {},
   "outputs": [
    {
     "name": "stdout",
     "output_type": "stream",
     "text": [
      "('pycharm', 'vscode', 'jupyter', 'spyder', 'anaconda', 'notepad++', 'intelij') <class 'tuple'>\n",
      "['pycharm', 'vscode', 'jupyter', 'spyder', 'anaconda', 'notepad++', 'intelij'] <class 'list'>\n",
      "['pycharm', 'anaconda', 'atom', 'jupyter', 'anaconda', 'notepad++', 'intelij', 'notepad++']\n",
      "('pycharm', 'anaconda', 'atom', 'jupyter', 'anaconda', 'notepad++', 'intelij', 'notepad++') <class 'tuple'>\n"
     ]
    }
   ],
   "source": [
    "# Convert tuple to list and vice versa ( because, can't directly change the value of a tuple)\n",
    "\n",
    "ides = (\"pycharm\",\"vscode\",\"jupyter\",\"spyder\",\"anaconda\",\"notepad++\",\"intelij\")\n",
    "print(ides , type(ides)) #<class 'tuple'>\n",
    "\n",
    "new_list = list(ides)\n",
    "print(new_list , type(new_list)) #<class 'list'>\n",
    "\n",
    "new_list[1] = \"anaconda\"\n",
    "new_list.append(\"notepad++\")\n",
    "new_list.remove(\"spyder\")\n",
    "new_list.insert(2,\"atom\")\n",
    "print(new_list)\n",
    "ides = tuple(new_list)\n",
    "print(ides , type(ides)) #<class 'tuple'>"
   ]
  },
  {
   "cell_type": "code",
   "execution_count": null,
   "id": "db6f5d1b",
   "metadata": {},
   "outputs": [
    {
     "name": "stdout",
     "output_type": "stream",
     "text": [
      "(1, 2, 3, (4, 5, 6), 7, (8, 9, 10))\n",
      "(4, 5, 6)\n",
      "5\n",
      "10\n"
     ]
    }
   ],
   "source": [
    "# Nested Tuple\n",
    "nested_tuple = (1,2,3,(4,5,6),7,(8,9,10))\n",
    "print(nested_tuple)\n",
    "print(nested_tuple[3])\n",
    "print(nested_tuple[3][1])\n",
    "print(nested_tuple[5][2])\n"
   ]
  },
  {
   "cell_type": "code",
   "execution_count": 38,
   "id": "7bfe3af9",
   "metadata": {},
   "outputs": [
    {
     "name": "stdout",
     "output_type": "stream",
     "text": [
      "{'football', True, False, 'tenis', 'cricket'} <class 'set'>\n",
      "5\n",
      "{'football', True, False, 'baseball', 'tenis', 'cricket'}\n",
      "{False, True, 'rugby', 'tenis', 'cricket', 'football', 'hockey', 'baseball', 'badminton'}\n",
      "{False, True, 'rugby', 'cricket', 'football', 'hockey', 'baseball', 'badminton'}\n"
     ]
    }
   ],
   "source": [
    "# Set\n",
    "\n",
    "sports = {\"tenis\",\"cricket\",\"football\",True,False,\"tenis\"}\n",
    "print(sports , type(sports)) #<class 'set'>\n",
    "\n",
    "print(len(sports))\n",
    "\n",
    "# print(sports[1]) #ERROR - cant access items by index\n",
    "\n",
    "# add value to set\n",
    "sports.add(\"baseball\")\n",
    "print(sports)\n",
    "\n",
    "# add multiple values to set\n",
    "sports.update([\"hockey\",\"rugby\",\"badminton\"])\n",
    "print(sports)\n",
    "\n",
    "# remove value from set\n",
    "sports.remove(\"tenis\")\n",
    "print(sports)\n"
   ]
  },
  {
   "cell_type": "code",
   "execution_count": null,
   "id": "668f51d5",
   "metadata": {},
   "outputs": [
    {
     "name": "stdout",
     "output_type": "stream",
     "text": [
      "{'apple', 'asus', 'hp', 'lenovo', 'dell'}\n"
     ]
    }
   ],
   "source": [
    "# set doesnt allow duplicate values\n",
    "\n",
    "laptops = {\"dell\",\"hp\",\"apple\",\"lenovo\",\"asus\",\"dell\",\"hp\"}\n",
    "print(laptops) # {'dell', 'hp', 'apple', 'lenovo',"
   ]
  },
  {
   "cell_type": "code",
   "execution_count": null,
   "id": "d406d11e",
   "metadata": {},
   "outputs": [
    {
     "name": "stdout",
     "output_type": "stream",
     "text": [
      "range(1, 17, 3)\n",
      "<class 'range'>\n",
      "1\n",
      "4\n",
      "7\n",
      "16\n",
      "13\n",
      "10\n",
      "6\n"
     ]
    }
   ],
   "source": [
    "# Range\n",
    "\n",
    "my_var = range(1,17,3)\n",
    "print(my_var) # range(1, 17, 3)\n",
    "print(type(my_var)) # <class 'range'>\n",
    "\n",
    "print(my_var[0]) # 1\n",
    "print(my_var[1]) # 4\n",
    "print(my_var[2]) # 7\n",
    "print(my_var[-1]) # 16\n",
    "print(my_var[-2]) # 13\n",
    "print(my_var[-3]) # 10\n",
    "print(len(my_var)) # 6"
   ]
  },
  {
   "cell_type": "code",
   "execution_count": 6,
   "id": "547704c5",
   "metadata": {},
   "outputs": [
    {
     "name": "stdout",
     "output_type": "stream",
     "text": [
      "{'name': 'laptop', 'brand': 'dell', 'price': 120000, 'in_stock': True, 'specs': {'ram': '16GB', 'storage': '512GB SSD', 'processor': 'Intel i7'}, 'accessories': ['mouse', 'keyboard', 'headset']}\n",
      "<class 'dict'>\n",
      "6\n",
      "laptop\n",
      "dell\n",
      "120000\n",
      "True\n",
      "16GB\n"
     ]
    }
   ],
   "source": [
    "# Dictionary - key:value pairs\n",
    "\n",
    "# key - should be unique and immutable (string,number,tuple)\n",
    "dict_1 = {\n",
    "    \"name\" : \"laptop\",\n",
    "    \"brand\" : \"dell\",\n",
    "    \"price\" : 120000,\n",
    "    \"in_stock\" : True,\n",
    "    \"specs\" : {\n",
    "        \"ram\" : \"16GB\",\n",
    "        \"storage\" : \"512GB SSD\",\n",
    "        \"processor\" : \"Intel i7\"\n",
    "    },\n",
    "    \"accessories\" : [\"mouse\",\"keyboard\",\"headset\"]\n",
    "}\n",
    "\n",
    "print(dict_1)\n",
    "print(type(dict_1))   # <class 'dict'>\n",
    "print(len(dict_1))    # 5\n",
    "\n",
    "print(dict_1[\"name\"]) # laptop\n",
    "print(dict_1[\"brand\"]) # dell\n",
    "print(dict_1[\"price\"]) # 120000\n",
    "print(dict_1[\"in_stock\"]) # True\n",
    "print(dict_1[\"specs\"][\"ram\"]) \n",
    "\n"
   ]
  },
  {
   "cell_type": "code",
   "execution_count": 8,
   "id": "3b842b6f",
   "metadata": {},
   "outputs": [
    {
     "name": "stdout",
     "output_type": "stream",
     "text": [
      "laptop\n",
      "dell\n",
      "120000\n",
      "True\n",
      "{'name': 'laptop', 'brand': 'dell', 'price': 110000, 'in_stock': False}\n",
      "{'name': 'desktop', 'brand': 'dell', 'price': 120000, 'in_stock': True}\n"
     ]
    }
   ],
   "source": [
    "# access values by key\n",
    "item_1 = {\n",
    "    \"name\" : \"laptop\",\n",
    "    \"brand\" : \"dell\",\n",
    "    \"price\" : 120000,\n",
    "    \"in_stock\" : True\n",
    "}\n",
    "print(item_1[\"name\"])  # laptop\n",
    "print(item_1[\"brand\"]) # dell\n",
    "print(item_1[\"price\"]) # 120000\n",
    "print(item_1[\"in_stock\"]) # True\n",
    "\n",
    "\n",
    "# update values by key\n",
    "item_1[\"price\"] = 110000\n",
    "item_1[\"in_stock\"] = False\n",
    "print(item_1)\n",
    "\n",
    "# check duplicate allowsd or not\n",
    "item_1 = {\n",
    "    \"name\" : \"laptop\",\n",
    "    \"brand\" : \"dell\",\n",
    "    \"price\" : 120000,\n",
    "    \"in_stock\" : True,\n",
    "    \"name\" : \"desktop\"   # duplicate key - name\n",
    "}\n",
    "print(item_1)  # {'name': 'desktop', 'brand': 'dell', 'price': 120000, 'in_stock': True}\n",
    "# last value will be considered"
   ]
  },
  {
   "cell_type": "code",
   "execution_count": null,
   "id": "0d237ab3",
   "metadata": {},
   "outputs": [
    {
     "name": "stdout",
     "output_type": "stream",
     "text": [
      "laptop\n",
      "None\n",
      "Not Available\n",
      "0\n"
     ]
    }
   ],
   "source": [
    "# access key by get() method in dictionary\n",
    "item_1 = {\n",
    "    \"name\" : \"laptop\",\n",
    "    \"brand\" : \"dell\",\n",
    "    # \"price\" : 120000,\n",
    "    \"in_stock\" : True\n",
    "}\n",
    "print(item_1.get(\"name\"))  # laptop\n",
    "\n",
    "# when the key is not available\n",
    "print(item_1.get(\"price\"))  # 120000\n",
    "print(item_1.get(\"price\",\"Not Available\"))  # Not Available\n",
    "print(item_1.get(\"price\",0))  # 0"
   ]
  },
  {
   "cell_type": "code",
   "execution_count": 28,
   "id": "2a3f8e25",
   "metadata": {},
   "outputs": [
    {
     "name": "stdout",
     "output_type": "stream",
     "text": [
      "{'python': 1991, 'java': 1995, 'c++': 1985, 'c#': 2000}\n",
      "<class 'dict'>\n",
      "4\n",
      "{'python': 1991, 'java': 1995, 'c++': 1985, 'c#': 2000, 'javascript': 1995}\n"
     ]
    }
   ],
   "source": [
    "# add new key:value pair to dictionary\n",
    "\n",
    "languages = {\n",
    "    \"python\" : 1991,\n",
    "    \"java\" : 1995,\n",
    "    \"c++\" : 1985,\n",
    "    \"c#\" : 2000\n",
    "}\n",
    "\n",
    "print(languages)\n",
    "print(type(languages)) # <class 'dict'>\n",
    "print(len(languages))  # 4\n",
    "languages[\"javascript\"] = 1995\n",
    "print(languages)"
   ]
  },
  {
   "cell_type": "code",
   "execution_count": 23,
   "id": "ac0e870e",
   "metadata": {},
   "outputs": [
    {
     "name": "stdout",
     "output_type": "stream",
     "text": [
      "{'python': 1991, 'java': 1996, 'c++': 1985, 'c#': 2000, 'javascript': 1995, 'ruby': 1995, 'go': 2009, 'php': 1995}\n"
     ]
    }
   ],
   "source": [
    "# update or add multiple key:value pairs to dictionary\n",
    "languages.update({\n",
    "    \"java\" : 1996,   # update\n",
    "    \"ruby\" : 1995,\n",
    "    \"go\" : 2009,\n",
    "    \"php\" : 1995\n",
    "})\n",
    "print(languages)"
   ]
  },
  {
   "cell_type": "code",
   "execution_count": null,
   "id": "6467d53e",
   "metadata": {},
   "outputs": [
    {
     "name": "stdout",
     "output_type": "stream",
     "text": [
      "{'python': 1991, 'java': 1995, 'c#': 2000, 'javascript': 1995}\n",
      "{'python': 1991, 'java': 1995, 'c#': 2000, 'javascript': 1995}\n"
     ]
    }
   ],
   "source": [
    "# remove key:value pair using pop from dictionary\n",
    "languages.pop(\"c++\")\n",
    "print(languages)\n"
   ]
  },
  {
   "cell_type": "code",
   "execution_count": null,
   "id": "926ffde7",
   "metadata": {},
   "outputs": [
    {
     "name": "stdout",
     "output_type": "stream",
     "text": [
      "{'python': 1991, 'java': 1995, 'javascript': 1995}\n"
     ]
    }
   ],
   "source": [
    "# remove key:value pair using del from dictionary\n",
    "del languages[\"c#\"]\n",
    "print(languages)"
   ]
  },
  {
   "cell_type": "code",
   "execution_count": 31,
   "id": "70ed4ef3",
   "metadata": {},
   "outputs": [
    {
     "name": "stdout",
     "output_type": "stream",
     "text": [
      "{}\n"
     ]
    }
   ],
   "source": [
    "# remove key:value pair using clear from dictionary\n",
    "languages.clear()\n",
    "print(languages) # {}"
   ]
  },
  {
   "cell_type": "code",
   "execution_count": null,
   "id": "f29047a3",
   "metadata": {},
   "outputs": [
    {
     "name": "stdout",
     "output_type": "stream",
     "text": [
      "8\n",
      "3.3333333333333335\n",
      "3\n",
      "3\n"
     ]
    }
   ],
   "source": [
    " #Arithmatic Operators\n",
    "\n",
    "# 01. Exponentiation - **\n",
    "a = 2\n",
    "b = 3\n",
    "print(a ** b)  # 8 - 2*2*2 = 8\n",
    "\n",
    "\n",
    "# 02. Division - /\n",
    "c = 10\n",
    "d = 3\n",
    "print(c / d)  # 3.3333333333333335 - float value - 10 = (3*3)+1\n",
    "\n",
    "\n",
    "# 03. Floor Division - //\n",
    "e = 20\n",
    "f = 6\n",
    "print(e // f)  # 3 - int value - 20 = (6*3)+2\n",
    "\n",
    "# 04. Modulus - %\n",
    "g = 15\n",
    "h = 4\n",
    "print(g % h)  # 3 - remainder value - 15 = (4*3)+3\n",
    "\n",
    "# 05. Multiplication - *\n",
    "i = 5\n",
    "j = 4\n",
    "print(i * j)  # 20  - 5+5+5+5 = 20\n"
   ]
  },
  {
   "cell_type": "code",
   "execution_count": null,
   "id": "225cd9ce",
   "metadata": {},
   "outputs": [
    {
     "name": "stdout",
     "output_type": "stream",
     "text": [
      "10\n",
      "5\n",
      "15\n",
      "25\n",
      "12\n",
      "20\n",
      "24\n",
      "60\n",
      "6.0\n",
      "12.0\n"
     ]
    }
   ],
   "source": [
    "# Assignment Operators - this operators are used to assign values to variables\n",
    "\n",
    "# 01. Assignment - =\n",
    "x = 10\n",
    "y = 5\n",
    "print(x)  # 10\n",
    "print(y)  # 5\n",
    "\n",
    "# 02. Add AND Assignment - +=\n",
    "x += 5  # x = x + 5\n",
    "print(x)  # 15\n",
    "y += 20  # y = y + 10\n",
    "print(y)  # 15\n",
    "\n",
    "# 03. Subtract AND Assignment - -=\n",
    "x -= 3  # x = x - 3\n",
    "print(x)  # 12\n",
    "y -= 5  # y = y - 5\n",
    "print(y)  # 20\n",
    "\n",
    "# 04. Multiply AND Assignment - *=\n",
    "x *= 2  # x = x * 2\n",
    "print(x)  # 24\n",
    "y *= 3  # y = y * 3\n",
    "print(y)  # 60\n",
    "\n",
    "# 05. Divide AND Assignment - /=\n",
    "x /= 4  # x = x / 4\n",
    "print(x)  # 6.0\n",
    "y /= 5  # y = y / 5\n",
    "print(y)  # 12.0\n",
    "\n",
    "# 06. Floor Divide AND Assignment - //=\n",
    "x //= 4  # x = x // 4\n",
    "print(x)  # 1.0\n",
    "y //= 5  # y = y // 5\n",
    "print(y)  # 2.0\n",
    "\n",
    "# 07. Modulus AND Assignment - %=\n",
    "x %= 2  # x = x % 2\n",
    "print(x)  # 1.0\n",
    "y %= 2  # y = y % 2\n",
    "print(y)  # 0.0\n",
    "\n",
    "# 08. Exponentiation AND Assignment - **=\n",
    "x **= 3  # x = x ** 3\n",
    "print(x)  # 1.0\n",
    "y **= 3  # y = y ** 3\n",
    "print(y)  # 0.0\n",
    "\n",
    "\n"
   ]
  },
  {
   "cell_type": "code",
   "execution_count": null,
   "id": "ef3cce52",
   "metadata": {},
   "outputs": [
    {
     "name": "stdout",
     "output_type": "stream",
     "text": [
      "False\n",
      "True\n",
      "True\n",
      "False\n",
      "False\n",
      "True\n",
      "False\n",
      "False\n",
      "True\n",
      "True\n"
     ]
    }
   ],
   "source": [
    "# Comparison Operators - this operators are used to compare two values\n",
    "\n",
    "# 01. Equal - == \n",
    "a = 10\n",
    "b = 5\n",
    "print(a == b)  # False\n",
    "print(a == 10)  # True\n",
    "print(b == 5)  # True\n",
    "print(b == 10)  # False\n",
    "print(a == 15)  # False\n",
    "\n",
    "# 02. Not Equal - !=\n",
    "print(a != b)  # True\n",
    "print(a != 10)  # False\n",
    "print(b != 5)  # False\n",
    "print(b != 10)  # True\n",
    "print(a != 15)  # True\n",
    "\n",
    "# 03. Greater Than - >\n",
    "print(a > b)  # True\n",
    "print(a > 10)  # False\n",
    "print(b > 5)  # False\n",
    "print(b > 10)  # False\n",
    "print(a > 15)  # False\n",
    "\n",
    "# 04. Less Than - <\n",
    "print(a < b)  # False\n",
    "print(a < 10)  # False\n",
    "print(b < 5)  # False\n",
    "print(b < 10)  # True\n",
    "print(a < 15)  # True\n",
    "\n",
    "# 05. Greater Than or Equal to - >=\n",
    "print(a >= b)  # True\n",
    "print(a >= 10)  # True\n",
    "print(b >= 5)  # True\n",
    "print(b >= 10)  # False\n",
    "print(a >= 15)  # False\n",
    "\n",
    "# 06. Less Than or Equal to - <=\n",
    "print(a <= b)  # False\n",
    "print(a <= 10)  # True\n",
    "print(b <= 5)  # True\n",
    "print(b <= 10)  # True\n",
    "print(a <= 15)  # True\n",
    "\n",
    "\n",
    "\n",
    "\n",
    "\n",
    "\n",
    "\n"
   ]
  }
 ],
 "metadata": {
  "kernelspec": {
   "display_name": "Python 3",
   "language": "python",
   "name": "python3"
  },
  "language_info": {
   "codemirror_mode": {
    "name": "ipython",
    "version": 3
   },
   "file_extension": ".py",
   "mimetype": "text/x-python",
   "name": "python",
   "nbconvert_exporter": "python",
   "pygments_lexer": "ipython3",
   "version": "3.13.4"
  }
 },
 "nbformat": 4,
 "nbformat_minor": 5
}
